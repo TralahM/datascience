{
 "cells": [
  {
   "cell_type": "code",
   "execution_count": 2,
   "metadata": {},
   "outputs": [],
   "source": [
    "import pandas as pd\n",
    "import matplotlib.pyplot as plt"
   ]
  },
  {
   "cell_type": "code",
   "execution_count": 53,
   "metadata": {},
   "outputs": [],
   "source": [
    "#read csv file with longitude and latitude of all countries sorted by longitudes\n",
    "\n",
    "data_file=pd.read_csv('./csv/country_lat_long.csv',encoding=\"utf-8\")"
   ]
  },
  {
   "cell_type": "code",
   "execution_count": 54,
   "metadata": {},
   "outputs": [
    {
     "data": {
      "text/html": [
       "<div>\n",
       "<style scoped>\n",
       "    .dataframe tbody tr th:only-of-type {\n",
       "        vertical-align: middle;\n",
       "    }\n",
       "\n",
       "    .dataframe tbody tr th {\n",
       "        vertical-align: top;\n",
       "    }\n",
       "\n",
       "    .dataframe thead th {\n",
       "        text-align: right;\n",
       "    }\n",
       "</style>\n",
       "<table border=\"1\" class=\"dataframe\">\n",
       "  <thead>\n",
       "    <tr style=\"text-align: right;\">\n",
       "      <th></th>\n",
       "      <th>country</th>\n",
       "      <th>latitude</th>\n",
       "      <th>longitude</th>\n",
       "      <th>name</th>\n",
       "    </tr>\n",
       "  </thead>\n",
       "  <tbody>\n",
       "    <tr>\n",
       "      <th>0</th>\n",
       "      <td>FJ</td>\n",
       "      <td>-16.578193</td>\n",
       "      <td>179.414413</td>\n",
       "      <td>Fiji</td>\n",
       "    </tr>\n",
       "    <tr>\n",
       "      <th>1</th>\n",
       "      <td>TV</td>\n",
       "      <td>-7.109535</td>\n",
       "      <td>177.649330</td>\n",
       "      <td>Tuvalu</td>\n",
       "    </tr>\n",
       "    <tr>\n",
       "      <th>2</th>\n",
       "      <td>NZ</td>\n",
       "      <td>-40.900557</td>\n",
       "      <td>174.885971</td>\n",
       "      <td>New Zealand</td>\n",
       "    </tr>\n",
       "    <tr>\n",
       "      <th>3</th>\n",
       "      <td>MH</td>\n",
       "      <td>7.131474</td>\n",
       "      <td>171.184478</td>\n",
       "      <td>Marshall Islands</td>\n",
       "    </tr>\n",
       "    <tr>\n",
       "      <th>4</th>\n",
       "      <td>NF</td>\n",
       "      <td>-29.040835</td>\n",
       "      <td>167.954712</td>\n",
       "      <td>Norfolk Island</td>\n",
       "    </tr>\n",
       "  </tbody>\n",
       "</table>\n",
       "</div>"
      ],
      "text/plain": [
       "  country   latitude   longitude              name\n",
       "0      FJ -16.578193  179.414413              Fiji\n",
       "1      TV  -7.109535  177.649330            Tuvalu\n",
       "2      NZ -40.900557  174.885971       New Zealand\n",
       "3      MH   7.131474  171.184478  Marshall Islands\n",
       "4      NF -29.040835  167.954712    Norfolk Island"
      ]
     },
     "execution_count": 54,
     "metadata": {},
     "output_type": "execute_result"
    }
   ],
   "source": [
    "data_file.head()"
   ]
  },
  {
   "cell_type": "code",
   "execution_count": 17,
   "metadata": {},
   "outputs": [
    {
     "data": {
      "text/plain": [
       "0     -16.578193\n",
       "1      -7.109535\n",
       "2     -40.900557\n",
       "3       7.131474\n",
       "4     -29.040835\n",
       "5     -15.376706\n",
       "6      -0.522778\n",
       "7     -20.904305\n",
       "8      -9.645710\n",
       "9       7.425554\n",
       "10     17.330830\n",
       "11     13.444304\n",
       "12     -6.314993\n",
       "13     36.204824\n",
       "14      7.514980\n",
       "15    -25.274398\n",
       "16     35.907757\n",
       "17     40.339852\n",
       "18     -8.874217\n",
       "19     12.879721\n",
       "20     23.697810\n",
       "21      4.535277\n",
       "22      4.535277\n",
       "23     22.396428\n",
       "24     -0.789275\n",
       "25     22.198745\n",
       "26     14.058324\n",
       "27    -10.447525\n",
       "28     61.524010\n",
       "29     61.524010\n",
       "         ...    \n",
       "218    21.694025\n",
       "219    18.971187\n",
       "220     4.570868\n",
       "221    -9.189967\n",
       "222    18.109581\n",
       "223    25.034280\n",
       "224    21.521757\n",
       "225    -1.831239\n",
       "226    19.513469\n",
       "227     8.537981\n",
       "228     9.748917\n",
       "229    12.865416\n",
       "230    15.199999\n",
       "231    17.189877\n",
       "232    13.794185\n",
       "233    15.783471\n",
       "234    37.090240\n",
       "235    23.634501\n",
       "236    56.130366\n",
       "237   -24.703615\n",
       "238   -17.679742\n",
       "239   -21.236736\n",
       "240    -3.370417\n",
       "241   -19.054445\n",
       "242   -14.270972\n",
       "243    -8.967363\n",
       "244   -13.759029\n",
       "245   -21.178986\n",
       "246   -13.768752\n",
       "247          NaN\n",
       "Name: latitude, Length: 248, dtype: float64"
      ]
     },
     "execution_count": 17,
     "metadata": {},
     "output_type": "execute_result"
    }
   ],
   "source": [
    "data_file['latitude']"
   ]
  },
  {
   "cell_type": "code",
   "execution_count": 18,
   "metadata": {},
   "outputs": [
    {
     "data": {
      "text/plain": [
       "0      179.414413\n",
       "1      177.649330\n",
       "2      174.885971\n",
       "3      171.184478\n",
       "4      167.954712\n",
       "5      166.959158\n",
       "6      166.931503\n",
       "7      165.618042\n",
       "8      160.156194\n",
       "9      150.550812\n",
       "10     145.384690\n",
       "11     144.793731\n",
       "12     143.955550\n",
       "13     138.252924\n",
       "14     134.582520\n",
       "15     133.775136\n",
       "16     127.766922\n",
       "17     127.510093\n",
       "18     125.727539\n",
       "19     121.774017\n",
       "20     120.960515\n",
       "21     114.727669\n",
       "22     114.727669\n",
       "23     114.109497\n",
       "24     113.921327\n",
       "25     113.543873\n",
       "26     108.277199\n",
       "27     105.690449\n",
       "28     105.318756\n",
       "29     105.318756\n",
       "          ...    \n",
       "218    -71.797928\n",
       "219    -72.285215\n",
       "220    -74.297333\n",
       "221    -75.015152\n",
       "222    -77.297508\n",
       "223    -77.396280\n",
       "224    -77.781167\n",
       "225    -78.183406\n",
       "226    -80.566956\n",
       "227    -80.782127\n",
       "228    -83.753428\n",
       "229    -85.207229\n",
       "230    -86.241905\n",
       "231    -88.497650\n",
       "232    -88.896530\n",
       "233    -90.230759\n",
       "234    -95.712891\n",
       "235   -102.552784\n",
       "236   -106.346771\n",
       "237   -127.439308\n",
       "238   -149.406843\n",
       "239   -159.777671\n",
       "240   -168.734039\n",
       "241   -169.867233\n",
       "242   -170.132217\n",
       "243   -171.855881\n",
       "244   -172.104629\n",
       "245   -175.198242\n",
       "246   -177.156097\n",
       "247           NaN\n",
       "Name: longitude, Length: 248, dtype: float64"
      ]
     },
     "execution_count": 18,
     "metadata": {},
     "output_type": "execute_result"
    }
   ],
   "source": [
    "data_file['longitude']"
   ]
  },
  {
   "cell_type": "code",
   "execution_count": 19,
   "metadata": {},
   "outputs": [
    {
     "data": {
      "text/plain": [
       "[<matplotlib.lines.Line2D at 0x7f5c5d71ee10>]"
      ]
     },
     "execution_count": 19,
     "metadata": {},
     "output_type": "execute_result"
    },
    {
     "data": {
      "image/png": "[encoded data removed]",
      "text/plain": [
       "<Figure size 432x288 with 1 Axes>"
      ]
     },
     "metadata": {},
     "output_type": "display_data"
    }
   ],
   "source": [
    "plt.plot(data_file['latitude'],data_file['longitude'])"
   ]
  },
  {
   "cell_type": "code",
   "execution_count": 20,
   "metadata": {},
   "outputs": [
    {
     "data": {
      "text/plain": [
       "<matplotlib.collections.PathCollection at 0x7f5c5d688c50>"
      ]
     },
     "execution_count": 20,
     "metadata": {},
     "output_type": "execute_result"
    },
    {
     "data": {
      "image/png": "[encoded data removed]",
      "text/plain": [
       "<Figure size 432x288 with 1 Axes>"
      ]
     },
     "metadata": {},
     "output_type": "display_data"
    }
   ],
   "source": [
    "#plot scatter plots for each long/lat coords\n",
    "plt.scatter(data_file['latitude'],data_file['longitude'])"
   ]
  },
  {
   "cell_type": "code",
   "execution_count": 22,
   "metadata": {},
   "outputs": [
    {
     "data": {
      "text/plain": [
       "16.500946793522274"
      ]
     },
     "execution_count": 22,
     "metadata": {},
     "output_type": "execute_result"
    }
   ],
   "source": [
    "data_file['latitude'].mean()"
   ]
  },
  {
   "cell_type": "code",
   "execution_count": 24,
   "metadata": {},
   "outputs": [
    {
     "data": {
      "text/plain": [
       "14.095789538461576"
      ]
     },
     "execution_count": 24,
     "metadata": {},
     "output_type": "execute_result"
    }
   ],
   "source": [
    "data_file['longitude'].mean()\n"
   ]
  },
  {
   "cell_type": "code",
   "execution_count": 25,
   "metadata": {},
   "outputs": [
    {
     "data": {
      "text/plain": [
       "0     4.535277\n",
       "1    43.915886\n",
       "2    61.524010\n",
       "dtype: float64"
      ]
     },
     "execution_count": 25,
     "metadata": {},
     "output_type": "execute_result"
    }
   ],
   "source": [
    "data_file['latitude'].mode()"
   ]
  },
  {
   "cell_type": "code",
   "execution_count": 26,
   "metadata": {},
   "outputs": [
    {
     "data": {
      "text/plain": [
       "0     17.679076\n",
       "1    105.318756\n",
       "2    114.727669\n",
       "dtype: float64"
      ]
     },
     "execution_count": 26,
     "metadata": {},
     "output_type": "execute_result"
    }
   ],
   "source": [
    "data_file['longitude'].mode()"
   ]
  },
  {
   "cell_type": "code",
   "execution_count": 41,
   "metadata": {},
   "outputs": [
    {
     "data": {
      "text/html": [
       "<div>\n",
       "<style scoped>\n",
       "    .dataframe tbody tr th:only-of-type {\n",
       "        vertical-align: middle;\n",
       "    }\n",
       "\n",
       "    .dataframe tbody tr th {\n",
       "        vertical-align: top;\n",
       "    }\n",
       "\n",
       "    .dataframe thead th {\n",
       "        text-align: right;\n",
       "    }\n",
       "</style>\n",
       "<table border=\"1\" class=\"dataframe\">\n",
       "  <thead>\n",
       "    <tr style=\"text-align: right;\">\n",
       "      <th></th>\n",
       "      <th>country</th>\n",
       "      <th>latitude</th>\n",
       "      <th>longitude</th>\n",
       "      <th>name</th>\n",
       "    </tr>\n",
       "  </thead>\n",
       "  <tbody>\n",
       "    <tr>\n",
       "      <th>243</th>\n",
       "      <td>TK</td>\n",
       "      <td>-8.967363</td>\n",
       "      <td>-171.855881</td>\n",
       "      <td>Tokelau</td>\n",
       "    </tr>\n",
       "    <tr>\n",
       "      <th>244</th>\n",
       "      <td>WS</td>\n",
       "      <td>-13.759029</td>\n",
       "      <td>-172.104629</td>\n",
       "      <td>Samoa</td>\n",
       "    </tr>\n",
       "    <tr>\n",
       "      <th>245</th>\n",
       "      <td>TO</td>\n",
       "      <td>-21.178986</td>\n",
       "      <td>-175.198242</td>\n",
       "      <td>Tonga</td>\n",
       "    </tr>\n",
       "    <tr>\n",
       "      <th>246</th>\n",
       "      <td>WF</td>\n",
       "      <td>-13.768752</td>\n",
       "      <td>-177.156097</td>\n",
       "      <td>Wallis and Futuna</td>\n",
       "    </tr>\n",
       "    <tr>\n",
       "      <th>247</th>\n",
       "      <td>UM</td>\n",
       "      <td>NaN</td>\n",
       "      <td>NaN</td>\n",
       "      <td>U.S. Minor Outlying Islands</td>\n",
       "    </tr>\n",
       "  </tbody>\n",
       "</table>\n",
       "</div>"
      ],
      "text/plain": [
       "    country   latitude   longitude                         name\n",
       "243      TK  -8.967363 -171.855881                      Tokelau\n",
       "244      WS -13.759029 -172.104629                        Samoa\n",
       "245      TO -21.178986 -175.198242                        Tonga\n",
       "246      WF -13.768752 -177.156097            Wallis and Futuna\n",
       "247      UM        NaN         NaN  U.S. Minor Outlying Islands"
      ]
     },
     "execution_count": 41,
     "metadata": {},
     "output_type": "execute_result"
    }
   ],
   "source": [
    "data_file.tail()"
   ]
  },
  {
   "cell_type": "code",
   "execution_count": 42,
   "metadata": {},
   "outputs": [
    {
     "data": {
      "text/html": [
       "<div>\n",
       "<style scoped>\n",
       "    .dataframe tbody tr th:only-of-type {\n",
       "        vertical-align: middle;\n",
       "    }\n",
       "\n",
       "    .dataframe tbody tr th {\n",
       "        vertical-align: top;\n",
       "    }\n",
       "\n",
       "    .dataframe thead th {\n",
       "        text-align: right;\n",
       "    }\n",
       "</style>\n",
       "<table border=\"1\" class=\"dataframe\">\n",
       "  <thead>\n",
       "    <tr style=\"text-align: right;\">\n",
       "      <th></th>\n",
       "      <th>country</th>\n",
       "      <th>latitude</th>\n",
       "      <th>longitude</th>\n",
       "      <th>name</th>\n",
       "    </tr>\n",
       "  </thead>\n",
       "  <tbody>\n",
       "    <tr>\n",
       "      <th>0</th>\n",
       "      <td>FJ</td>\n",
       "      <td>-16.578193</td>\n",
       "      <td>179.414413</td>\n",
       "      <td>Fiji</td>\n",
       "    </tr>\n",
       "    <tr>\n",
       "      <th>1</th>\n",
       "      <td>TV</td>\n",
       "      <td>-7.109535</td>\n",
       "      <td>177.649330</td>\n",
       "      <td>Tuvalu</td>\n",
       "    </tr>\n",
       "    <tr>\n",
       "      <th>2</th>\n",
       "      <td>NZ</td>\n",
       "      <td>-40.900557</td>\n",
       "      <td>174.885971</td>\n",
       "      <td>New Zealand</td>\n",
       "    </tr>\n",
       "    <tr>\n",
       "      <th>3</th>\n",
       "      <td>MH</td>\n",
       "      <td>7.131474</td>\n",
       "      <td>171.184478</td>\n",
       "      <td>Marshall Islands</td>\n",
       "    </tr>\n",
       "    <tr>\n",
       "      <th>4</th>\n",
       "      <td>NF</td>\n",
       "      <td>-29.040835</td>\n",
       "      <td>167.954712</td>\n",
       "      <td>Norfolk Island</td>\n",
       "    </tr>\n",
       "  </tbody>\n",
       "</table>\n",
       "</div>"
      ],
      "text/plain": [
       "  country   latitude   longitude              name\n",
       "0      FJ -16.578193  179.414413              Fiji\n",
       "1      TV  -7.109535  177.649330            Tuvalu\n",
       "2      NZ -40.900557  174.885971       New Zealand\n",
       "3      MH   7.131474  171.184478  Marshall Islands\n",
       "4      NF -29.040835  167.954712    Norfolk Island"
      ]
     },
     "execution_count": 42,
     "metadata": {},
     "output_type": "execute_result"
    }
   ],
   "source": [
    "data_file.head()"
   ]
  },
  {
   "cell_type": "code",
   "execution_count": 44,
   "metadata": {},
   "outputs": [
    {
     "data": {
      "text/plain": [
       "array([[<matplotlib.axes._subplots.AxesSubplot object at 0x7f5c5d6a9f60>,\n",
       "        <matplotlib.axes._subplots.AxesSubplot object at 0x7f5c5d5b6668>]],\n",
       "      dtype=object)"
      ]
     },
     "execution_count": 44,
     "metadata": {},
     "output_type": "execute_result"
    },
    {
     "data": {
      "image/png": "[encoded data removed]",
      "text/plain": [
       "<Figure size 432x288 with 2 Axes>"
      ]
     },
     "metadata": {},
     "output_type": "display_data"
    }
   ],
   "source": [
    "data_file.hist()\n"
   ]
  },
  {
   "cell_type": "code",
   "execution_count": 51,
   "metadata": {},
   "outputs": [
    {
     "data": {
      "text/plain": [
       "<matplotlib.axes._subplots.AxesSubplot at 0x7f5c5d471390>"
      ]
     },
     "execution_count": 51,
     "metadata": {},
     "output_type": "execute_result"
    },
    {
     "data": {
      "image/png": "[encoded data removed]",
      "text/plain": [
       "<Figure size 432x288 with 1 Axes>"
      ]
     },
     "metadata": {},
     "output_type": "display_data"
    }
   ],
   "source": [
    "data_file.boxplot()\n"
   ]
  },
  {
   "cell_type": "code",
   "execution_count": 52,
   "metadata": {},
   "outputs": [
    {
     "data": {
      "text/html": [
       "<div>\n",
       "<style scoped>\n",
       "    .dataframe tbody tr th:only-of-type {\n",
       "        vertical-align: middle;\n",
       "    }\n",
       "\n",
       "    .dataframe tbody tr th {\n",
       "        vertical-align: top;\n",
       "    }\n",
       "\n",
       "    .dataframe thead th {\n",
       "        text-align: right;\n",
       "    }\n",
       "</style>\n",
       "<table border=\"1\" class=\"dataframe\">\n",
       "  <thead>\n",
       "    <tr style=\"text-align: right;\">\n",
       "      <th></th>\n",
       "      <th>latitude</th>\n",
       "      <th>longitude</th>\n",
       "    </tr>\n",
       "  </thead>\n",
       "  <tbody>\n",
       "    <tr>\n",
       "      <th>latitude</th>\n",
       "      <td>1.000000</td>\n",
       "      <td>0.057365</td>\n",
       "    </tr>\n",
       "    <tr>\n",
       "      <th>longitude</th>\n",
       "      <td>0.057365</td>\n",
       "      <td>1.000000</td>\n",
       "    </tr>\n",
       "  </tbody>\n",
       "</table>\n",
       "</div>"
      ],
      "text/plain": [
       "           latitude  longitude\n",
       "latitude   1.000000   0.057365\n",
       "longitude  0.057365   1.000000"
      ]
     },
     "execution_count": 52,
     "metadata": {},
     "output_type": "execute_result"
    }
   ],
   "source": [
    "data_file.corr()"
   ]
  },
  {
   "cell_type": "code",
   "execution_count": null,
   "metadata": {},
   "outputs": [],
   "source": []
  }
 ],
 "metadata": {
  "kernelspec": {
   "display_name": "Python 3",
   "language": "python",
   "name": "python3"
  },
  "language_info": {
   "codemirror_mode": {
    "name": "ipython",
    "version": 3
   },
   "file_extension": ".py",
   "mimetype": "text/x-python",
   "name": "python",
   "nbconvert_exporter": "python",
   "pygments_lexer": "ipython3",
   "version": "3.6.5"
  }
 },
 "nbformat": 4,
 "nbformat_minor": 2
}
